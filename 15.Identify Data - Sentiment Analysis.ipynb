{
 "cells": [
  {
   "cell_type": "markdown",
   "metadata": {},
   "source": [
    "# Data Identification"
   ]
  },
  {
   "cell_type": "code",
   "execution_count": 1,
   "metadata": {},
   "outputs": [],
   "source": [
    "import pandas as pd\n",
    "import seaborn as sns\n",
    "\n",
    "from pyspark.sql import SparkSession\n",
    "from pyspark.sql import functions as f\n",
    "\n",
    "spark = SparkSession.builder.appName(\"data-identification\").getOrCreate()\n",
    "\n",
    "#Show unlimited Columns\n",
    "pd.options.display.max_columns = None\n",
    "#Show max 250 rows \n",
    "pd.options.display.max_rows = 250\n",
    "#Max col width = 150 as max tweet size is 144\n",
    "pd.options.display.max_colwidth = 150\n",
    "#Colorful graphs with seaborn\n",
    "sns.set(color_codes=True)\n",
    "\n",
    "\n",
    "# The data is a CSV with emoticons removed. Data file format has 6 fields:\n",
    "# 0 - the polarity of the tweet (0 = negative, 2 = neutral, 4 = positive)\n",
    "# 1 - the id of the tweet (2087)\n",
    "# 2 - the date of the tweet (Sat May 16 23:58:44 UTC 2009)\n",
    "# 3 - the query (lyx). If there is no query, then this value is NO_QUERY.\n",
    "# 4 - the user that tweeted (robotickilldozr)\n",
    "# 5 - the text of the tweet (Lyx is cool)\n",
    "schema = \"polarity FLOAT, id LONG, date_time STRING,query STRING,user STRING,text STRING\"\n",
    "\n",
    "#patH for INPUT & OUTPUT\n",
    "IN_PATH_1 = \"datasets/sentiment-140-training-data/testdata.manual.2009.06.14.csv\"\n",
    "IN_PATH_2 = \"datasets/sentiment-140-training-data/training.1600000.processed.noemoticon.csv\"\n",
    "OUT_PATH = \"datasets/sentiment-140-training-data/RAW\"\n",
    "\n",
    "#Declaring a common schema\n",
    "spark_reader = spark.read.schema(schema)"
   ]
  },
  {
   "cell_type": "code",
   "execution_count": 2,
   "metadata": {},
   "outputs": [],
   "source": [
    "#LOADING Train and TEST data\n",
    "test_data = spark_reader.csv(IN_PATH_1, header=False).cache()\n",
    "training_data = spark_reader.csv(IN_PATH_2, header=False).cache()"
   ]
  },
  {
   "cell_type": "markdown",
   "metadata": {},
   "source": [
    "# Data Preparation & Exploring"
   ]
  },
  {
   "cell_type": "code",
   "execution_count": 3,
   "metadata": {},
   "outputs": [
    {
     "name": "stdout",
     "output_type": "stream",
     "text": [
      "root\n",
      " |-- polarity: float (nullable = true)\n",
      " |-- id: long (nullable = true)\n",
      " |-- date_time: string (nullable = true)\n",
      " |-- query: string (nullable = true)\n",
      " |-- user: string (nullable = true)\n",
      " |-- text: string (nullable = true)\n",
      "\n",
      "root\n",
      " |-- polarity: float (nullable = true)\n",
      " |-- id: long (nullable = true)\n",
      " |-- date_time: string (nullable = true)\n",
      " |-- query: string (nullable = true)\n",
      " |-- user: string (nullable = true)\n",
      " |-- text: string (nullable = true)\n",
      "\n"
     ]
    }
   ],
   "source": [
    "#PRINTING SCHEMA\n",
    "test_data.printSchema()\n",
    "training_data.printSchema()"
   ]
  },
  {
   "cell_type": "code",
   "execution_count": 6,
   "metadata": {},
   "outputs": [
    {
     "name": "stdout",
     "output_type": "stream",
     "text": [
      "Training Data Count: 1600000\n",
      "Test Data Count: 498\n"
     ]
    }
   ],
   "source": [
    "#COUNTING THE TOTAL ROWS\n",
    "print(f\"Training Data Count: {training_data.count()}\")\n",
    "print(f\"Test Data Count: {test_data.count()}\")"
   ]
  },
  {
   "cell_type": "code",
   "execution_count": 8,
   "metadata": {},
   "outputs": [
    {
     "name": "stdout",
     "output_type": "stream",
     "text": [
      "Training Data Count After dropping na: 1600000\n",
      "Test Data Count After dropping na: 498\n"
     ]
    }
   ],
   "source": [
    "#COUNTING AFTER DROPPING THE not avaiable(NA)\n",
    "print(f\"Training Data Count After dropping na: {training_data.na.drop().count()}\")\n",
    "print(f\"Test Data Count After dropping na: {test_data.na.drop().count()}\")"
   ]
  },
  {
   "cell_type": "code",
   "execution_count": 13,
   "metadata": {},
   "outputs": [
    {
     "data": {
      "text/plain": [
       "<matplotlib.axes._subplots.AxesSubplot at 0x2361325c948>"
      ]
     },
     "execution_count": 13,
     "metadata": {},
     "output_type": "execute_result"
    },
    {
     "data": {
      "image/png": "[encoded data removed]",
      "text/plain": [
       "<Figure size 432x288 with 1 Axes>"
      ]
     },
     "metadata": {},
     "output_type": "display_data"
    }
   ],
   "source": [
    "#Graphing the polarity column\n",
    "polarity_col = training_data.select(\"polarity\").na.drop()\n",
    "\n",
    "sns.distplot(polarity_col.toPandas())"
   ]
  },
  {
   "cell_type": "markdown",
   "metadata": {},
   "source": [
    "# Creating raw training data"
   ]
  },
  {
   "cell_type": "code",
   "execution_count": 15,
   "metadata": {},
   "outputs": [
    {
     "data": {
      "text/html": [
       "<div>\n",
       "<style scoped>\n",
       "    .dataframe tbody tr th:only-of-type {\n",
       "        vertical-align: middle;\n",
       "    }\n",
       "\n",
       "    .dataframe tbody tr th {\n",
       "        vertical-align: top;\n",
       "    }\n",
       "\n",
       "    .dataframe thead th {\n",
       "        text-align: right;\n",
       "    }\n",
       "</style>\n",
       "<table border=\"1\" class=\"dataframe\">\n",
       "  <thead>\n",
       "    <tr style=\"text-align: right;\">\n",
       "      <th></th>\n",
       "      <th>polarity</th>\n",
       "      <th>count</th>\n",
       "    </tr>\n",
       "  </thead>\n",
       "  <tbody>\n",
       "    <tr>\n",
       "      <th>0</th>\n",
       "      <td>4.0</td>\n",
       "      <td>800000</td>\n",
       "    </tr>\n",
       "    <tr>\n",
       "      <th>1</th>\n",
       "      <td>0.0</td>\n",
       "      <td>800000</td>\n",
       "    </tr>\n",
       "  </tbody>\n",
       "</table>\n",
       "</div>"
      ],
      "text/plain": [
       "   polarity   count\n",
       "0       4.0  800000\n",
       "1       0.0  800000"
      ]
     },
     "execution_count": 15,
     "metadata": {},
     "output_type": "execute_result"
    }
   ],
   "source": [
    "training_data.groupby(\"polarity\").count().toPandas()"
   ]
  },
  {
   "cell_type": "code",
   "execution_count": 17,
   "metadata": {},
   "outputs": [
    {
     "data": {
      "text/html": [
       "<div>\n",
       "<style scoped>\n",
       "    .dataframe tbody tr th:only-of-type {\n",
       "        vertical-align: middle;\n",
       "    }\n",
       "\n",
       "    .dataframe tbody tr th {\n",
       "        vertical-align: top;\n",
       "    }\n",
       "\n",
       "    .dataframe thead th {\n",
       "        text-align: right;\n",
       "    }\n",
       "</style>\n",
       "<table border=\"1\" class=\"dataframe\">\n",
       "  <thead>\n",
       "    <tr style=\"text-align: right;\">\n",
       "      <th></th>\n",
       "      <th>summary</th>\n",
       "      <th>polarity</th>\n",
       "      <th>id</th>\n",
       "      <th>date_time</th>\n",
       "      <th>query</th>\n",
       "      <th>user</th>\n",
       "      <th>text</th>\n",
       "    </tr>\n",
       "  </thead>\n",
       "  <tbody>\n",
       "    <tr>\n",
       "      <th>0</th>\n",
       "      <td>count</td>\n",
       "      <td>1600000</td>\n",
       "      <td>1600000</td>\n",
       "      <td>1600000</td>\n",
       "      <td>1600000</td>\n",
       "      <td>1600000</td>\n",
       "      <td>1600000</td>\n",
       "    </tr>\n",
       "    <tr>\n",
       "      <th>1</th>\n",
       "      <td>mean</td>\n",
       "      <td>2.0</td>\n",
       "      <td>1.9988175522956276E9</td>\n",
       "      <td>None</td>\n",
       "      <td>None</td>\n",
       "      <td>4.325887521835714E9</td>\n",
       "      <td>None</td>\n",
       "    </tr>\n",
       "    <tr>\n",
       "      <th>2</th>\n",
       "      <td>stddev</td>\n",
       "      <td>2.000000625000293</td>\n",
       "      <td>1.935760736226641E8</td>\n",
       "      <td>None</td>\n",
       "      <td>None</td>\n",
       "      <td>5.162733218454889E10</td>\n",
       "      <td>None</td>\n",
       "    </tr>\n",
       "    <tr>\n",
       "      <th>3</th>\n",
       "      <td>min</td>\n",
       "      <td>0.0</td>\n",
       "      <td>1467810369</td>\n",
       "      <td>Fri Apr 17 20:30:31 PDT 2009</td>\n",
       "      <td>NO_QUERY</td>\n",
       "      <td>000catnap000</td>\n",
       "      <td>exhausted</td>\n",
       "    </tr>\n",
       "    <tr>\n",
       "      <th>4</th>\n",
       "      <td>25%</td>\n",
       "      <td>0.0</td>\n",
       "      <td>1956910873</td>\n",
       "      <td>None</td>\n",
       "      <td>None</td>\n",
       "      <td>32508.0</td>\n",
       "      <td>None</td>\n",
       "    </tr>\n",
       "    <tr>\n",
       "      <th>5</th>\n",
       "      <td>50%</td>\n",
       "      <td>0.0</td>\n",
       "      <td>2002096238</td>\n",
       "      <td>None</td>\n",
       "      <td>None</td>\n",
       "      <td>130587.0</td>\n",
       "      <td>None</td>\n",
       "    </tr>\n",
       "    <tr>\n",
       "      <th>6</th>\n",
       "      <td>75%</td>\n",
       "      <td>4.0</td>\n",
       "      <td>2177061550</td>\n",
       "      <td>None</td>\n",
       "      <td>None</td>\n",
       "      <td>1100101.0</td>\n",
       "      <td>None</td>\n",
       "    </tr>\n",
       "    <tr>\n",
       "      <th>7</th>\n",
       "      <td>max</td>\n",
       "      <td>4.0</td>\n",
       "      <td>2329205794</td>\n",
       "      <td>Wed May 27 07:27:38 PDT 2009</td>\n",
       "      <td>NO_QUERY</td>\n",
       "      <td>zzzzeus111</td>\n",
       "      <td>�����ߧ�ǿ�����ж�؜��� &amp;lt;&amp;lt;----I DID NOT KNOW I CUD or HOW TO DO ALL DAT ON MY PHONE TIL NOW. WOW..MY LIFE IS NOW COMPLETE.  JK.</td>\n",
       "    </tr>\n",
       "  </tbody>\n",
       "</table>\n",
       "</div>"
      ],
      "text/plain": [
       "  summary           polarity                    id  \\\n",
       "0   count            1600000               1600000   \n",
       "1    mean                2.0  1.9988175522956276E9   \n",
       "2  stddev  2.000000625000293   1.935760736226641E8   \n",
       "3     min                0.0            1467810369   \n",
       "4     25%                0.0            1956910873   \n",
       "5     50%                0.0            2002096238   \n",
       "6     75%                4.0            2177061550   \n",
       "7     max                4.0            2329205794   \n",
       "\n",
       "                      date_time     query                  user  \\\n",
       "0                       1600000   1600000               1600000   \n",
       "1                          None      None   4.325887521835714E9   \n",
       "2                          None      None  5.162733218454889E10   \n",
       "3  Fri Apr 17 20:30:31 PDT 2009  NO_QUERY          000catnap000   \n",
       "4                          None      None               32508.0   \n",
       "5                          None      None              130587.0   \n",
       "6                          None      None             1100101.0   \n",
       "7  Wed May 27 07:27:38 PDT 2009  NO_QUERY            zzzzeus111   \n",
       "\n",
       "                                                                                                                                text  \n",
       "0                                                                                                                            1600000  \n",
       "1                                                                                                                               None  \n",
       "2                                                                                                                               None  \n",
       "3                                                                                                                          exhausted  \n",
       "4                                                                                                                               None  \n",
       "5                                                                                                                               None  \n",
       "6                                                                                                                               None  \n",
       "7  �����ߧ�ǿ�����ж�؜��� &lt;&lt;----I DID NOT KNOW I CUD or HOW TO DO ALL DAT ON MY PHONE TIL NOW. WOW..MY LIFE IS NOW COMPLETE.  JK.  "
      ]
     },
     "execution_count": 17,
     "metadata": {},
     "output_type": "execute_result"
    }
   ],
   "source": [
    "training_data.summary().toPandas()"
   ]
  },
  {
   "cell_type": "code",
   "execution_count": 18,
   "metadata": {},
   "outputs": [
    {
     "data": {
      "text/html": [
       "<div>\n",
       "<style scoped>\n",
       "    .dataframe tbody tr th:only-of-type {\n",
       "        vertical-align: middle;\n",
       "    }\n",
       "\n",
       "    .dataframe tbody tr th {\n",
       "        vertical-align: top;\n",
       "    }\n",
       "\n",
       "    .dataframe thead th {\n",
       "        text-align: right;\n",
       "    }\n",
       "</style>\n",
       "<table border=\"1\" class=\"dataframe\">\n",
       "  <thead>\n",
       "    <tr style=\"text-align: right;\">\n",
       "      <th></th>\n",
       "      <th>summary</th>\n",
       "      <th>polarity</th>\n",
       "      <th>id</th>\n",
       "      <th>date_time</th>\n",
       "      <th>query</th>\n",
       "      <th>user</th>\n",
       "      <th>text</th>\n",
       "    </tr>\n",
       "  </thead>\n",
       "  <tbody>\n",
       "    <tr>\n",
       "      <th>0</th>\n",
       "      <td>count</td>\n",
       "      <td>498</td>\n",
       "      <td>498</td>\n",
       "      <td>498</td>\n",
       "      <td>498</td>\n",
       "      <td>498</td>\n",
       "      <td>498</td>\n",
       "    </tr>\n",
       "    <tr>\n",
       "      <th>1</th>\n",
       "      <td>mean</td>\n",
       "      <td>2.0200803212851404</td>\n",
       "      <td>1867.2269076305222</td>\n",
       "      <td>None</td>\n",
       "      <td>46.0</td>\n",
       "      <td>None</td>\n",
       "      <td>None</td>\n",
       "    </tr>\n",
       "    <tr>\n",
       "      <th>2</th>\n",
       "      <td>stddev</td>\n",
       "      <td>1.6996858490577658</td>\n",
       "      <td>2834.891681137318</td>\n",
       "      <td>None</td>\n",
       "      <td>5.163977794943222</td>\n",
       "      <td>None</td>\n",
       "      <td>None</td>\n",
       "    </tr>\n",
       "    <tr>\n",
       "      <th>3</th>\n",
       "      <td>min</td>\n",
       "      <td>0.0</td>\n",
       "      <td>3</td>\n",
       "      <td>Fri May 15 06:45:54 UTC 2009</td>\n",
       "      <td>\"\"\"booz allen\"\"\"</td>\n",
       "      <td>5x1llz</td>\n",
       "      <td>\"\"\"The Republican party is a bunch of anti-abortion zealots who couldn't draw flies to a dump.\"\" -- Neal Boortz (just now</td>\n",
       "    </tr>\n",
       "    <tr>\n",
       "      <th>4</th>\n",
       "      <td>25%</td>\n",
       "      <td>0.0</td>\n",
       "      <td>388</td>\n",
       "      <td>None</td>\n",
       "      <td>40.0</td>\n",
       "      <td>None</td>\n",
       "      <td>None</td>\n",
       "    </tr>\n",
       "    <tr>\n",
       "      <th>5</th>\n",
       "      <td>50%</td>\n",
       "      <td>2.0</td>\n",
       "      <td>1013</td>\n",
       "      <td>None</td>\n",
       "      <td>50.0</td>\n",
       "      <td>None</td>\n",
       "      <td>None</td>\n",
       "    </tr>\n",
       "    <tr>\n",
       "      <th>6</th>\n",
       "      <td>75%</td>\n",
       "      <td>4.0</td>\n",
       "      <td>2367</td>\n",
       "      <td>None</td>\n",
       "      <td>50.0</td>\n",
       "      <td>None</td>\n",
       "      <td>None</td>\n",
       "    </tr>\n",
       "    <tr>\n",
       "      <th>7</th>\n",
       "      <td>max</td>\n",
       "      <td>4.0</td>\n",
       "      <td>14076</td>\n",
       "      <td>Wed May 27 23:59:18 UTC 2009</td>\n",
       "      <td>yankees</td>\n",
       "      <td>zedomax</td>\n",
       "      <td>zomg!!! I have a G2!!!!!!!</td>\n",
       "    </tr>\n",
       "  </tbody>\n",
       "</table>\n",
       "</div>"
      ],
      "text/plain": [
       "  summary            polarity                  id  \\\n",
       "0   count                 498                 498   \n",
       "1    mean  2.0200803212851404  1867.2269076305222   \n",
       "2  stddev  1.6996858490577658   2834.891681137318   \n",
       "3     min                 0.0                   3   \n",
       "4     25%                 0.0                 388   \n",
       "5     50%                 2.0                1013   \n",
       "6     75%                 4.0                2367   \n",
       "7     max                 4.0               14076   \n",
       "\n",
       "                      date_time              query     user  \\\n",
       "0                           498                498      498   \n",
       "1                          None               46.0     None   \n",
       "2                          None  5.163977794943222     None   \n",
       "3  Fri May 15 06:45:54 UTC 2009   \"\"\"booz allen\"\"\"   5x1llz   \n",
       "4                          None               40.0     None   \n",
       "5                          None               50.0     None   \n",
       "6                          None               50.0     None   \n",
       "7  Wed May 27 23:59:18 UTC 2009            yankees  zedomax   \n",
       "\n",
       "                                                                                                                        text  \n",
       "0                                                                                                                        498  \n",
       "1                                                                                                                       None  \n",
       "2                                                                                                                       None  \n",
       "3  \"\"\"The Republican party is a bunch of anti-abortion zealots who couldn't draw flies to a dump.\"\" -- Neal Boortz (just now  \n",
       "4                                                                                                                       None  \n",
       "5                                                                                                                       None  \n",
       "6                                                                                                                       None  \n",
       "7                                                                                                 zomg!!! I have a G2!!!!!!!  "
      ]
     },
     "execution_count": 18,
     "metadata": {},
     "output_type": "execute_result"
    }
   ],
   "source": [
    "test_data.summary().toPandas()"
   ]
  },
  {
   "cell_type": "code",
   "execution_count": 21,
   "metadata": {},
   "outputs": [],
   "source": [
    "#Saving the raw data and splitting for effecient use in the next step for parallel processing\n",
    "training_data.repartition(20).write.partitionBy(\"polarity\").csv(OUT_PATH, mode=\"overwrite\")\n",
    "\n",
    "# 20 means to divide it into 20 executors i.e 80,000 records per executor\n",
    "# And partition it wrt polarity column 0,2,4 which in case of this data is going to create 2 folders ie 0 and 4"
   ]
  }
 ],
 "metadata": {
  "kernelspec": {
   "display_name": "Python 3",
   "language": "python",
   "name": "python3"
  },
  "language_info": {
   "codemirror_mode": {
    "name": "ipython",
    "version": 3
   },
   "file_extension": ".py",
   "mimetype": "text/x-python",
   "name": "python",
   "nbconvert_exporter": "python",
   "pygments_lexer": "ipython3",
   "version": "3.7.6"
  }
 },
 "nbformat": 4,
 "nbformat_minor": 4
}
