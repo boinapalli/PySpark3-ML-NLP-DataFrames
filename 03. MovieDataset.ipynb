{
 "cells": [
  {
   "cell_type": "markdown",
   "metadata": {},
   "source": [
    "# Step-1: Import the modules"
   ]
  },
  {
   "cell_type": "code",
   "execution_count": 1,
   "metadata": {},
   "outputs": [],
   "source": [
    "from pyspark.sql import SparkSession\n",
    "from pyspark.sql import functions as f"
   ]
  },
  {
   "cell_type": "code",
   "execution_count": 2,
   "metadata": {},
   "outputs": [],
   "source": [
    "#SparkSession creation\n",
    "spark = SparkSession.builder.appName(\"MovieLensRating\").getOrCreate()"
   ]
  },
  {
   "cell_type": "markdown",
   "metadata": {},
   "source": [
    "# Loading & Cleaning the data"
   ]
  },
  {
   "cell_type": "code",
   "execution_count": 3,
   "metadata": {},
   "outputs": [],
   "source": [
    "ratings = (\n",
    "    spark.read.csv(\n",
    "        path=\"movielens/ratings.csv\",\n",
    "        sep= \",\",\n",
    "        quote='\"',\n",
    "        header=True,\n",
    "        schema=\"userId INT, movieID INT, rating DOUBLE, timestamp INT\",\n",
    "     )\n",
    "    #converting timestamp format to regular one from unixtime\n",
    "     .withColumn(\"timestamp\",f.to_timestamp(f.from_unixtime(\"timestamp\")))\n",
    ")\n",
    "\n",
    "movies = spark.read.csv(\n",
    "             path=\"movielens/movies.csv\",\n",
    "             sep=\",\",\n",
    "             quote='\"',\n",
    "             header=True,\n",
    "             schema=\"movieID INT, title STRING, genres STRING\"\n",
    "        )\n",
    "movie_genres = (\n",
    "    movies\n",
    "    .withColumn(\"genres_array\",f.split(\"genres\",\"\\|\")) #Splitting elements by pipe symbol \"|\"\n",
    "    .withColumn(\"genre\", f.explode(\"genres_array\")) #exploding array\n",
    "    .select(\"movieID\",\"title\",\"genre\")     #Selectig columns to store\n",
    ")\n",
    "\n",
    "#Available genre \n",
    "available_genre = movie_genres.select(\"genre\").distinct()\n",
    "#Movie with no genre/ where genre==\"no genres listed\"\n",
    "movies_with_no_genre = movie_genres.where(f.col(\"genre\")==\"(no genres listed)\")\n",
    "\n",
    "links = spark.read.csv(\n",
    "             path=\"movielens/links.csv\",\n",
    "             sep=\",\",\n",
    "             quote='\"',\n",
    "             header=True,\n",
    "             schema=\"movieId INT, imdbId STRING, tmdbId INT\"\n",
    "        )\n",
    "\n",
    "tags =  spark.read.csv(\n",
    "             path=\"movielens/tags.csv\",\n",
    "             sep=\",\",\n",
    "             quote='\"',\n",
    "             header=True,\n",
    "             schema=\"userId INT, movieId INT, tag STRING, timestamp INT\"\n",
    "        ).withColumn(\"timestamp\",f.to_timestamp(f.from_unixtime(\"timestamp\")))\n"
   ]
  },
  {
   "cell_type": "code",
   "execution_count": 4,
   "metadata": {},
   "outputs": [],
   "source": [
    "#cOUNT MOVIES PER GENRE\n",
    "movies_per_genre = movie_genres.groupBy(\"genre\").count()\n",
    "# movies_per_genre.show()"
   ]
  },
  {
   "cell_type": "code",
   "execution_count": 5,
   "metadata": {},
   "outputs": [
    {
     "name": "stdout",
     "output_type": "stream",
     "text": [
      "+------+-------+-----------------+-------------------+\n",
      "|userId|movieId|              tag|          timestamp|\n",
      "+------+-------+-----------------+-------------------+\n",
      "|     2|  60756|            funny|2015-10-25 00:29:54|\n",
      "|     2|  60756|  Highly quotable|2015-10-25 00:29:56|\n",
      "|     2|  60756|     will ferrell|2015-10-25 00:29:52|\n",
      "|     2|  89774|     Boxing story|2015-10-25 00:33:27|\n",
      "|     2|  89774|              MMA|2015-10-25 00:33:20|\n",
      "|     2|  89774|        Tom Hardy|2015-10-25 00:33:25|\n",
      "|     2| 106782|            drugs|2015-10-25 00:30:54|\n",
      "|     2| 106782|Leonardo DiCaprio|2015-10-25 00:30:51|\n",
      "|     2| 106782|  Martin Scorsese|2015-10-25 00:30:56|\n",
      "|     7|  48516|     way too long|2007-01-25 06:08:45|\n",
      "|    18|    431|        Al Pacino|2016-05-02 02:39:25|\n",
      "|    18|    431|         gangster|2016-05-02 02:39:09|\n",
      "|    18|    431|            mafia|2016-05-02 02:39:15|\n",
      "|    18|   1221|        Al Pacino|2016-04-27 00:35:06|\n",
      "|    18|   1221|            Mafia|2016-04-27 00:35:03|\n",
      "|    18|   5995|        holocaust|2016-02-17 23:57:52|\n",
      "|    18|   5995|       true story|2016-02-17 23:57:59|\n",
      "|    18|  44665|     twist ending|2016-03-03 00:51:23|\n",
      "|    18|  52604|  Anthony Hopkins|2016-03-11 03:58:16|\n",
      "|    18|  52604|  courtroom drama|2016-03-11 03:58:31|\n",
      "+------+-------+-----------------+-------------------+\n",
      "only showing top 20 rows\n",
      "\n"
     ]
    }
   ],
   "source": [
    "tags.show()"
   ]
  },
  {
   "cell_type": "code",
   "execution_count": 6,
   "metadata": {},
   "outputs": [],
   "source": [
    "#Joining movies table with tags on unique id \"movieId\": left join\n",
    "opinions = (\n",
    "          movies\n",
    "          .join(tags,[\"movieId\"],\"left\")\n",
    "          .withColumnRenamed(\"timestamp\",\"timestamp_tag\")\n",
    "          .select(\"userId\",\"movieID\",\"title\",\"tag\",\"timestamp_tag\")\n",
    "    )"
   ]
  },
  {
   "cell_type": "code",
   "execution_count": 7,
   "metadata": {},
   "outputs": [
    {
     "name": "stdout",
     "output_type": "stream",
     "text": [
      "+------+-------+----------------+--------------+-------------------+\n",
      "|userId|movieID|title           |tag           |timestamp_tag      |\n",
      "+------+-------+----------------+--------------+-------------------+\n",
      "|567   |1      |Toy Story (1995)|fun           |2018-05-02 23:33:33|\n",
      "|474   |1      |Toy Story (1995)|pixar         |2006-01-14 07:47:05|\n",
      "|336   |1      |Toy Story (1995)|pixar         |2006-02-04 14:36:04|\n",
      "|474   |2      |Jumanji (1995)  |game          |2006-01-16 06:39:12|\n",
      "|62    |2      |Jumanji (1995)  |Robin Williams|2018-06-13 03:51:47|\n",
      "+------+-------+----------------+--------------+-------------------+\n",
      "only showing top 5 rows\n",
      "\n"
     ]
    }
   ],
   "source": [
    "opinions.show(5,False)"
   ]
  },
  {
   "cell_type": "code",
   "execution_count": 8,
   "metadata": {},
   "outputs": [
    {
     "name": "stdout",
     "output_type": "stream",
     "text": [
      "+------+-------+----------------------------------+----------------+------+-------------------+-------------------+\n",
      "|userId|movieID|title                             |tag             |rating|timestamp_tag      |timestamp          |\n",
      "+------+-------+----------------------------------+----------------+------+-------------------+-------------------+\n",
      "|567   |1      |Toy Story (1995)                  |fun             |3.5   |2018-05-02 23:33:33|2018-05-02 23:33:21|\n",
      "|474   |1      |Toy Story (1995)                  |pixar           |4.0   |2006-01-14 07:47:05|2001-01-04 07:36:00|\n",
      "|336   |1      |Toy Story (1995)                  |pixar           |4.0   |2006-02-04 14:36:04|2005-07-24 22:48:49|\n",
      "|474   |2      |Jumanji (1995)                    |game            |3.0   |2006-01-16 06:39:12|2003-03-05 22:53:34|\n",
      "|62    |2      |Jumanji (1995)                    |Robin Williams  |4.0   |2018-06-13 03:51:47|2018-06-13 03:51:30|\n",
      "|62    |2      |Jumanji (1995)                    |magic board game|4.0   |2018-06-13 03:52:12|2018-06-13 03:51:30|\n",
      "|62    |2      |Jumanji (1995)                    |fantasy         |4.0   |2018-06-13 03:52:09|2018-06-13 03:51:30|\n",
      "|289   |3      |Grumpier Old Men (1995)           |old             |2.5   |2006-03-27 07:01:00|2006-03-27 06:57:37|\n",
      "|289   |3      |Grumpier Old Men (1995)           |moldy           |2.5   |2006-03-27 07:01:00|2006-03-27 06:57:37|\n",
      "|474   |5      |Father of the Bride Part II (1995)|remake          |1.5   |2006-01-16 06:11:43|2003-05-15 23:06:22|\n",
      "+------+-------+----------------------------------+----------------+------+-------------------+-------------------+\n",
      "only showing top 10 rows\n",
      "\n"
     ]
    }
   ],
   "source": [
    "#Joining opinion table with rating on two unique ids i.e \"movieId\" and \"userId\": inner join\n",
    "opinions_ext = (\n",
    "            opinions\n",
    "            .join(ratings,[\"movieID\",\"userId\"],\"inner\")\n",
    "            .select(\"userId\",\"movieID\",\"title\",\"tag\",\"rating\",\"timestamp_tag\",\"timestamp\")\n",
    "        )\n",
    "opinions_ext.show(10,False)"
   ]
  },
  {
   "cell_type": "markdown",
   "metadata": {},
   "source": [
    "# Aggregating "
   ]
  },
  {
   "cell_type": "code",
   "execution_count": 14,
   "metadata": {},
   "outputs": [
    {
     "name": "stdout",
     "output_type": "stream",
     "text": [
      "+-------+-------------------+----------+----------+------------------+-------------------+-------------------+\n",
      "|movieID|Total No. of Rating|Min Rating|Max Rating|Avg Rating        |Earliest           |Latest             |\n",
      "+-------+-------------------+----------+----------+------------------+-------------------+-------------------+\n",
      "|1580   |165                |0.5       |5.0       |3.487878787878788 |1997-07-07 17:07:18|2018-07-22 18:30:52|\n",
      "|2366   |25                 |1.5       |5.0       |3.64              |1999-11-04 20:23:49|2018-02-20 15:20:35|\n",
      "|3175   |75                 |1.0       |5.0       |3.58              |1999-12-26 19:01:31|2018-06-25 10:07:19|\n",
      "|1088   |42                 |1.0       |5.0       |3.369047619047619 |1997-04-07 12:36:08|2018-01-17 06:52:47|\n",
      "|32460  |4                  |3.5       |5.0       |4.25              |2011-12-19 00:21:21|2017-04-22 01:12:30|\n",
      "|44022  |23                 |1.0       |4.5       |3.217391304347826 |2006-10-25 23:02:59|2018-03-07 12:38:56|\n",
      "|96488  |4                  |4.0       |4.5       |4.25              |2014-11-08 21:17:07|2018-04-02 04:12:59|\n",
      "|1238   |9                  |3.0       |5.0       |4.055555555555555 |1997-05-31 02:00:50|2013-06-02 04:27:29|\n",
      "|1342   |11                 |1.0       |4.0       |2.5               |2000-08-08 08:22:32|2017-06-27 03:39:33|\n",
      "|1591   |26                 |1.0       |5.0       |2.6346153846153846|1999-11-18 22:37:57|2018-08-01 13:54:59|\n",
      "+-------+-------------------+----------+----------+------------------+-------------------+-------------------+\n",
      "only showing top 10 rows\n",
      "\n"
     ]
    }
   ],
   "source": [
    "#Aggregating on the basis  of movieId\n",
    "ratings.groupBy(\"movieID\").agg(\n",
    "    f.count(\"*\").alias(\"Total No. of Rating\"),\n",
    "    f.min(\"rating\").alias(\"Min Rating\"),\n",
    "    f.max(\"rating\").alias(\"Max Rating\"),\n",
    "    f.avg(\"rating\").alias(\"Avg Rating\"),\n",
    "    f.min(\"timestamp\").alias(\"Earliest\"),\n",
    "    f.max(\"timestamp\").alias(\"Latest\"),\n",
    ").show(10,False)"
   ]
  },
  {
   "cell_type": "code",
   "execution_count": 25,
   "metadata": {},
   "outputs": [
    {
     "name": "stdout",
     "output_type": "stream",
     "text": [
      "+-------+-----------------------+----------+--------+---------+-------------------+-------------------+\n",
      "|movieID|Tags                   |Total Tags|User Ids|UID count|First_tagged_date  |Last_tagged_date   |\n",
      "+-------+-----------------------+----------+--------+---------+-------------------+-------------------+\n",
      "|471    |[hula hoop]            |1         |[474]   |1        |2006-01-16 06:39:07|2006-01-16 06:39:07|\n",
      "|1088   |[music, dance]         |2         |[474]   |2        |2006-01-27 01:20:56|2006-01-27 01:20:56|\n",
      "|1580   |[aliens]               |1         |[474]   |1        |2006-01-14 07:25:19|2006-01-14 07:25:19|\n",
      "|1645   |[lawyers]              |1         |[474]   |1        |2006-01-16 06:14:55|2006-01-16 06:14:55|\n",
      "|1959   |[adultery, Africa]     |2         |[474]   |2        |2006-01-23 20:58:43|2006-01-23 20:58:43|\n",
      "|2122   |[Stephen King]         |1         |[474]   |1        |2006-01-16 06:08:16|2006-01-16 06:08:16|\n",
      "|3175   |[spoof]                |1         |[474]   |1        |2006-01-23 21:05:15|2006-01-23 21:05:15|\n",
      "|6466   |[In Netflix queue]     |1         |[474]   |1        |2006-01-14 06:27:07|2006-01-14 06:27:07|\n",
      "|6620   |[cancer]               |1         |[474]   |1        |2006-01-14 07:28:35|2006-01-14 07:28:35|\n",
      "|7833   |[Nick and Nora Charles]|1         |[474]   |1        |2006-01-14 06:21:01|2006-01-14 06:21:01|\n",
      "+-------+-----------------------+----------+--------+---------+-------------------+-------------------+\n",
      "only showing top 10 rows\n",
      "\n"
     ]
    }
   ],
   "source": [
    "tags.groupby(\"movieID\").agg(\n",
    "    f.collect_set(\"tag\").alias(\"Tags\"),\n",
    "    f.count(\"tag\").alias(\"Total Tags\"),\n",
    "    f.collect_set(\"userId\").alias(\"User Ids\"),\n",
    "    f.count(\"userId\").alias(\"UID count\"),\n",
    "    f.min(\"timestamp\").alias(\"First_tagged_date\"),\n",
    "    f.max(\"timestamp\").alias(\"Last_tagged_date\"),\n",
    "\n",
    ").show(10,False)"
   ]
  },
  {
   "cell_type": "code",
   "execution_count": 35,
   "metadata": {},
   "outputs": [
    {
     "name": "stdout",
     "output_type": "stream",
     "text": [
      "+------+--------------------+-------------+------------------+----------------+----------------+\n",
      "|userId|            MOvieIDS|Ratings Given|  Avg Rating Given|Min Rating given|Max Rating Given|\n",
      "+------+--------------------+-------------+------------------+----------------+----------------+\n",
      "|   414|[2338, 356, 6296,...|         2698| 3.391957005189029|             0.5|             5.0|\n",
      "|   599|[3702, 356, 2594,...|         2478|2.6420500403551253|             0.5|             5.0|\n",
      "|   474|[356, 6296, 2594,...|         2108| 3.398956356736243|             0.5|             5.0|\n",
      "|   448|[356, 6296, 10894...|         1864|2.8473712446351933|             0.5|             5.0|\n",
      "|   274|[2338, 356, 6702,...|         1346| 3.235884101040119|             0.5|             5.0|\n",
      "+------+--------------------+-------------+------------------+----------------+----------------+\n",
      "only showing top 5 rows\n",
      "\n"
     ]
    }
   ],
   "source": [
    "ratings.groupby(\"userId\").agg(\n",
    "    f.collect_set(\"movieID\").alias(\"MOvieIDS\"),\n",
    "    f.count(\"*\").alias(\"Ratings Given\"),\n",
    "    f.avg(\"rating\").alias(\"Avg Rating Given\"),\n",
    "    f.min(\"rating\").alias(\"Min Rating given\"),\n",
    "    f.max(\"rating\").alias(\"Max Rating Given\"),\n",
    ").sort(\"Ratings Given\",ascending=False).show(5)"
   ]
  }
 ],
 "metadata": {
  "kernelspec": {
   "display_name": "Python 3",
   "language": "python",
   "name": "python3"
  },
  "language_info": {
   "codemirror_mode": {
    "name": "ipython",
    "version": 3
   },
   "file_extension": ".py",
   "mimetype": "text/x-python",
   "name": "python",
   "nbconvert_exporter": "python",
   "pygments_lexer": "ipython3",
   "version": "3.7.6"
  }
 },
 "nbformat": 4,
 "nbformat_minor": 4
}
