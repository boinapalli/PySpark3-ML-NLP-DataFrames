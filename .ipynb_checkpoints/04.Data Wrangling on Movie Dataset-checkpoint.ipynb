{
 "cells": [
  {
   "cell_type": "code",
   "execution_count": 1,
   "metadata": {},
   "outputs": [],
   "source": [
    "from pyspark.sql import SparkSession\n",
    "from pyspark.sql import functions as f"
   ]
  },
  {
   "cell_type": "code",
   "execution_count": 2,
   "metadata": {},
   "outputs": [],
   "source": [
    "spark = SparkSession.builder.appName(\"Data Wrangling\").getOrCreate()"
   ]
  },
  {
   "cell_type": "code",
   "execution_count": 3,
   "metadata": {},
   "outputs": [
    {
     "name": "stdout",
     "output_type": "stream",
     "text": [
      "E:\\Business Intelligence\\PySpark 3 - Practice\\movielens\n",
      " Volume in drive E is Study\n",
      " Volume Serial Number is 0D72-0390\n",
      "\n",
      " Directory of E:\\Business Intelligence\\PySpark 3 - Practice\\movielens\n",
      "\n",
      "10/04/2020  12:48 AM    <DIR>          .\n",
      "10/04/2020  12:48 AM    <DIR>          ..\n",
      "09/26/2018  03:50 PM           197,979 links.csv\n",
      "09/26/2018  03:49 PM           494,431 movies.csv\n",
      "09/26/2018  03:49 PM         2,483,723 ratings.csv\n",
      "09/26/2018  03:50 PM             8,342 README.txt\n",
      "09/26/2018  03:49 PM           118,660 tags.csv\n",
      "               5 File(s)      3,303,135 bytes\n",
      "               2 Dir(s)  61,938,475,008 bytes free\n"
     ]
    }
   ],
   "source": [
    "%cd movielens\n",
    "%ls"
   ]
  },
  {
   "cell_type": "code",
   "execution_count": 4,
   "metadata": {},
   "outputs": [],
   "source": [
    "ratings = (\n",
    "    \n",
    "    spark.read.csv(\n",
    "        path= \"movielens/ratings.csv\",\n",
    "        sep = \",\",\n",
    "        quote='\"',\n",
    "        header=True,\n",
    "        schema=\"userId INT, movieId INT, rating DOUBLE, timestamp INT\"\n",
    "        )\n",
    "        .withColumn(\"timestamp\",f.to_timestamp(f.from_unixtime(\"timestamp\")))\n",
    ")\n",
    "movies = spark.read.csv(\n",
    "        path=\"movielens/movies.csv\",\n",
    "        sep=\",\",\n",
    "        quote='\"',\n",
    "        header=True,\n",
    "        schema=\"movieID INT, title STRING, genres STRING\"\n",
    "    )\n",
    "\n",
    "movie_genre = (\n",
    "            movies \n",
    "             .withColumn(\"genre_array\",f.split(\"genres\",\"\\|\"))\n",
    "             .withColumn(\"genre\",f.explode(\"genre_array\"))\n",
    "             .select(\"movieID\",\"title\",\"genre\")\n",
    ")\n",
    "\n",
    "available_genre = movie_genre.select(\"genre\").distinct()\n",
    "movies_with_no_genre = movie_genre.where(f.col(\"genre\")==\"(no genres listed)\")\n",
    "\n",
    "links = spark.read.csv(\n",
    "             path=\"movielens/links.csv\",\n",
    "             sep=\",\",\n",
    "             quote='\"',\n",
    "             header=True,\n",
    "             schema=\"movieId INT, imdbId STRING, tmdbId INT\"\n",
    "        )\n",
    "\n",
    "tags =  spark.read.csv(\n",
    "             path=\"movielens/tags.csv\",\n",
    "             sep=\",\",\n",
    "             quote='\"',\n",
    "             header=True,\n",
    "             schema=\"userId INT, movieId INT, tag STRING, timestamp INT\"\n",
    "        ).withColumn(\"timestamp\",f.to_timestamp(f.from_unixtime(\"timestamp\")))\n",
    "\n",
    "opinions = (\n",
    "          movies\n",
    "          .join(tags,[\"movieId\"],\"left\")\n",
    "          .withColumnRenamed(\"timestamp\",\"timestamp_tag\")\n",
    "          .select(\"userId\",\"movieID\",\"title\",\"tag\",\"timestamp_tag\")\n",
    "    )\n",
    "\n",
    "opinions_ext = (\n",
    "            opinions\n",
    "            .join(ratings,[\"movieID\",\"userId\"],\"inner\")\n",
    "            .select(\"userId\",\"movieID\",\"title\",\"tag\",\"rating\",\"timestamp_tag\",\"timestamp\")\n",
    "        )"
   ]
  },
  {
   "cell_type": "code",
   "execution_count": null,
   "metadata": {},
   "outputs": [],
   "source": []
  }
 ],
 "metadata": {
  "kernelspec": {
   "display_name": "Python 3",
   "language": "python",
   "name": "python3"
  },
  "language_info": {
   "codemirror_mode": {
    "name": "ipython",
    "version": 3
   },
   "file_extension": ".py",
   "mimetype": "text/x-python",
   "name": "python",
   "nbconvert_exporter": "python",
   "pygments_lexer": "ipython3",
   "version": "3.7.6"
  }
 },
 "nbformat": 4,
 "nbformat_minor": 4
}
