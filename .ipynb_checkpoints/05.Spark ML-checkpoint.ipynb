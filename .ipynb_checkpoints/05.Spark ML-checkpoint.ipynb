{
 "cells": [
  {
   "cell_type": "markdown",
   "metadata": {},
   "source": [
    "# Importing the modules"
   ]
  },
  {
   "cell_type": "code",
   "execution_count": 1,
   "metadata": {},
   "outputs": [],
   "source": [
    "from pyspark.sql import SparkSession\n",
    "from pyspark.sql import functions as f\n",
    "from pyspark.ml.recommendation import ALS\n",
    "from pyspark.ml.evaluation import RegressionEvaluator\n",
    "from pyspark.ml.tuning import CrossValidator,ParamGridBuilder"
   ]
  },
  {
   "cell_type": "code",
   "execution_count": 2,
   "metadata": {},
   "outputs": [],
   "source": [
    "#SparkSession creation\n",
    "spark = SparkSession.builder.appName(\"ALS CF\").getOrCreate()"
   ]
  },
  {
   "cell_type": "code",
   "execution_count": 3,
   "metadata": {},
   "outputs": [],
   "source": [
    "#Loading rating Data \n",
    "ratings = (\n",
    "    spark.read.csv(\n",
    "        path=\"movielens/ratings.csv\",\n",
    "        sep= \",\",\n",
    "        quote='\"',\n",
    "        header=True,\n",
    "        schema=\"userId INT, movieID INT, rating DOUBLE, timestamp INT\",\n",
    "     )\n",
    "     .select(\"userId\",\"movieID\",\"rating\")\n",
    "     .cache()\n",
    ")\n",
    "\n",
    "#Loading movie data\n",
    "movies = (\n",
    "    spark.read.csv(\n",
    "        path=\"movielens/movies.csv\",\n",
    "        sep= \",\",\n",
    "        quote='\"',\n",
    "        header=True,\n",
    "        schema=\"movieID INT, title STRING, genres STRING\",\n",
    "    )\n",
    "    .withColumn(\"release_year\",f.regexp_extract(f.col(\"title\"),\"\\s?\\((\\d{4})\\)\",1))\n",
    "    .withColumn(\"title\",f.regexp_replace(f.col(\"title\"),\"\\s?\\((\\d{4})\\)\",\"\"))\n",
    "    .withColumn(\"genres\",f.split(f.col(\"genres\"),\"\\|\"))\n",
    "    .cache()\n",
    ")"
   ]
  },
  {
   "cell_type": "code",
   "execution_count": 4,
   "metadata": {},
   "outputs": [
    {
     "name": "stdout",
     "output_type": "stream",
     "text": [
      "+-------+---------------------------+-------------------------------------------------+------------+\n",
      "|movieID|title                      |genres                                           |release_year|\n",
      "+-------+---------------------------+-------------------------------------------------+------------+\n",
      "|1      |Toy Story                  |[Adventure, Animation, Children, Comedy, Fantasy]|1995        |\n",
      "|2      |Jumanji                    |[Adventure, Children, Fantasy]                   |1995        |\n",
      "|3      |Grumpier Old Men           |[Comedy, Romance]                                |1995        |\n",
      "|4      |Waiting to Exhale          |[Comedy, Drama, Romance]                         |1995        |\n",
      "|5      |Father of the Bride Part II|[Comedy]                                         |1995        |\n",
      "+-------+---------------------------+-------------------------------------------------+------------+\n",
      "only showing top 5 rows\n",
      "\n",
      "+------+-------+------+\n",
      "|userId|movieID|rating|\n",
      "+------+-------+------+\n",
      "|1     |1      |4.0   |\n",
      "|1     |3      |4.0   |\n",
      "|1     |6      |4.0   |\n",
      "|1     |47     |5.0   |\n",
      "|1     |50     |5.0   |\n",
      "+------+-------+------+\n",
      "only showing top 5 rows\n",
      "\n"
     ]
    }
   ],
   "source": [
    "movies.show(5,False)\n",
    "ratings.show(5,False)"
   ]
  },
  {
   "cell_type": "code",
   "execution_count": 5,
   "metadata": {},
   "outputs": [
    {
     "name": "stdout",
     "output_type": "stream",
     "text": [
      "Root Mean Square Error for Best Model: (ALSModel: uid=ALS_69a8413310ea, rank=1):  0.8812238821543542\n"
     ]
    }
   ],
   "source": [
    "als = ALS(\n",
    "          userCol=\"userId\",\n",
    "          itemCol=\"movieID\",\n",
    "          ratingCol=\"rating\",\n",
    "          coldStartStrategy=\"drop\",     #default: Nan Now drop\n",
    "          implicitPrefs=\"True\"          #default: False(explicit Feedback)\n",
    ")\n",
    "\n",
    "evaluator = RegressionEvaluator(\n",
    "    metricName=\"rmse\",\n",
    "    labelCol=\"rating\",\n",
    "    predictionCol=\"prediction\"\n",
    ")\n",
    "\n",
    "parameter_grid = (\n",
    "    ParamGridBuilder()\n",
    "    .addGrid(als.rank, [1,5,10])\n",
    "    .addGrid(als.maxIter,[20])\n",
    "    .addGrid(als.regParam,[0.05,0.1])\n",
    "    .build()\n",
    ")\n",
    "\n",
    "crossvalidator = CrossValidator(\n",
    "    estimator=als,\n",
    "    estimatorParamMaps=parameter_grid,\n",
    "    evaluator=evaluator,\n",
    "    numFolds=2\n",
    ")\n",
    "\n",
    "\n",
    "(training_data,validation_data) = ratings.randomSplit([8.0,2.0])\n",
    "crossval_model = crossvalidator.fit(training_data)\n",
    "\n",
    "#Selecting the best model\n",
    "model = crossval_model.bestModel\n",
    "\n",
    "#Statistic about out trained model\n",
    "predictions = model.transform(validation_data).na.drop()\n",
    "print(f\"Root Mean Square Error for Best Model: ({model}):  {evaluator.evaluate(predictions)}\")"
   ]
  },
  {
   "cell_type": "code",
   "execution_count": 6,
   "metadata": {},
   "outputs": [
    {
     "data": {
      "text/html": [
       "<div>\n",
       "<style scoped>\n",
       "    .dataframe tbody tr th:only-of-type {\n",
       "        vertical-align: middle;\n",
       "    }\n",
       "\n",
       "    .dataframe tbody tr th {\n",
       "        vertical-align: top;\n",
       "    }\n",
       "\n",
       "    .dataframe thead th {\n",
       "        text-align: right;\n",
       "    }\n",
       "</style>\n",
       "<table border=\"1\" class=\"dataframe\">\n",
       "  <thead>\n",
       "    <tr style=\"text-align: right;\">\n",
       "      <th></th>\n",
       "      <th>userId</th>\n",
       "      <th>movieID</th>\n",
       "      <th>rating</th>\n",
       "      <th>prediction</th>\n",
       "    </tr>\n",
       "  </thead>\n",
       "  <tbody>\n",
       "    <tr>\n",
       "      <th>0</th>\n",
       "      <td>597</td>\n",
       "      <td>471</td>\n",
       "      <td>2.0</td>\n",
       "      <td>4.020075</td>\n",
       "    </tr>\n",
       "    <tr>\n",
       "      <th>1</th>\n",
       "      <td>602</td>\n",
       "      <td>471</td>\n",
       "      <td>4.0</td>\n",
       "      <td>3.499872</td>\n",
       "    </tr>\n",
       "    <tr>\n",
       "      <th>2</th>\n",
       "      <td>462</td>\n",
       "      <td>471</td>\n",
       "      <td>2.5</td>\n",
       "      <td>3.153466</td>\n",
       "    </tr>\n",
       "    <tr>\n",
       "      <th>3</th>\n",
       "      <td>610</td>\n",
       "      <td>471</td>\n",
       "      <td>4.0</td>\n",
       "      <td>3.832452</td>\n",
       "    </tr>\n",
       "    <tr>\n",
       "      <th>4</th>\n",
       "      <td>411</td>\n",
       "      <td>471</td>\n",
       "      <td>4.0</td>\n",
       "      <td>3.492277</td>\n",
       "    </tr>\n",
       "    <tr>\n",
       "      <th>...</th>\n",
       "      <td>...</td>\n",
       "      <td>...</td>\n",
       "      <td>...</td>\n",
       "      <td>...</td>\n",
       "    </tr>\n",
       "    <tr>\n",
       "      <th>19504</th>\n",
       "      <td>357</td>\n",
       "      <td>79008</td>\n",
       "      <td>4.0</td>\n",
       "      <td>4.149889</td>\n",
       "    </tr>\n",
       "    <tr>\n",
       "      <th>19505</th>\n",
       "      <td>496</td>\n",
       "      <td>84374</td>\n",
       "      <td>3.0</td>\n",
       "      <td>2.746061</td>\n",
       "    </tr>\n",
       "    <tr>\n",
       "      <th>19506</th>\n",
       "      <td>484</td>\n",
       "      <td>84374</td>\n",
       "      <td>4.0</td>\n",
       "      <td>3.266302</td>\n",
       "    </tr>\n",
       "    <tr>\n",
       "      <th>19507</th>\n",
       "      <td>563</td>\n",
       "      <td>84374</td>\n",
       "      <td>2.5</td>\n",
       "      <td>2.948870</td>\n",
       "    </tr>\n",
       "    <tr>\n",
       "      <th>19508</th>\n",
       "      <td>525</td>\n",
       "      <td>147378</td>\n",
       "      <td>3.5</td>\n",
       "      <td>2.930253</td>\n",
       "    </tr>\n",
       "  </tbody>\n",
       "</table>\n",
       "<p>19509 rows × 4 columns</p>\n",
       "</div>"
      ],
      "text/plain": [
       "       userId  movieID  rating  prediction\n",
       "0         597      471     2.0    4.020075\n",
       "1         602      471     4.0    3.499872\n",
       "2         462      471     2.5    3.153466\n",
       "3         610      471     4.0    3.832452\n",
       "4         411      471     4.0    3.492277\n",
       "...       ...      ...     ...         ...\n",
       "19504     357    79008     4.0    4.149889\n",
       "19505     496    84374     3.0    2.746061\n",
       "19506     484    84374     4.0    3.266302\n",
       "19507     563    84374     2.5    2.948870\n",
       "19508     525   147378     3.5    2.930253\n",
       "\n",
       "[19509 rows x 4 columns]"
      ]
     },
     "execution_count": 6,
     "metadata": {},
     "output_type": "execute_result"
    }
   ],
   "source": [
    "#Let's have a look at our data\n",
    "predictions.toPandas()"
   ]
  },
  {
   "cell_type": "markdown",
   "metadata": {},
   "source": [
    "# Using the model to show predictions\n",
    "\n",
    "<h3>Method 1:</h3>\n",
    "Pre-Compute ratings per movie/user and simply filter based on results\n",
    "\n",
    "<h3>Top 5 movies for each user,for all users</h3>\n",
    "\"We can use the .recommendForAllUsers method to return \"top\" numItems items recommended for each user,for all users\"\n"
   ]
  },
  {
   "cell_type": "code",
   "execution_count": 7,
   "metadata": {},
   "outputs": [
    {
     "name": "stdout",
     "output_type": "stream",
     "text": [
      "+------+------------------------------------------------------------------------------------------------+\n",
      "|userId|recommendations                                                                                 |\n",
      "+------+------------------------------------------------------------------------------------------------+\n",
      "|471   |[[6835, 7.32343], [5746, 7.32343], [40491, 7.225782], [136850, 7.0887785], [5764, 6.5910873]]   |\n",
      "|463   |[[6835, 7.8463063], [5746, 7.8463063], [40491, 7.741686], [136850, 7.594901], [5764, 7.0616755]]|\n",
      "|496   |[[6835, 6.8111854], [5746, 6.8111854], [40491, 6.720367], [136850, 6.5929465], [5764, 6.130067]]|\n",
      "|148   |[[6835, 7.284841], [5746, 7.284841], [40491, 7.1877074], [136850, 7.051426], [5764, 6.556357]]  |\n",
      "|540   |[[6835, 8.467546], [5746, 8.467546], [40491, 8.354643], [136850, 8.196236], [5764, 7.6207914]]  |\n",
      "+------+------------------------------------------------------------------------------------------------+\n",
      "only showing top 5 rows\n",
      "\n",
      "+-------+------------------------------------------------+------------+\n",
      "|movieID|title                                           |release_year|\n",
      "+-------+------------------------------------------------+------------+\n",
      "|5746   |Galaxy of Terror (Quest)                        |1981        |\n",
      "|6835   |Alien Contamination                             |1980        |\n",
      "|40491  |Match Factory Girl, The (Tulitikkutehtaan tyttö)|1990        |\n",
      "|136850 |Villain                                         |1971        |\n",
      "|5764   |Looker                                          |1981        |\n",
      "+-------+------------------------------------------------+------------+\n",
      "\n"
     ]
    }
   ],
   "source": [
    "USER_ID = 50\n",
    "\n",
    "rec_all_users = model.recommendForAllUsers(5).cache()\n",
    "rec_all_users.show(5,False)\n",
    "\n",
    "recommendation_for_user_1 = (\n",
    "    rec_all_users.filter(f\"userId == {USER_ID}\")\n",
    "    #Use explode to convert the arrays to the rows with structs\n",
    "    .withColumn(\"rec\",f.explode(\"recommendations\"))\n",
    "    #Select the column we want from resulting struct\n",
    "    .select(\n",
    "        \"userId\",\n",
    "        f.col(\"rec\").movieID.alias(\"movieID\"),\n",
    "        f.col(\"rec\").rating.alias(\"rating\"),\n",
    "    )\n",
    "    #Join movies dataframe and select only the columns we want\n",
    "    .join(movies,\"movieID\")\n",
    "    .orderBy(\"rating\",ascending=False)\n",
    "    .select(\"movieID\",\"title\",\"release_year\")\n",
    ")\n",
    "\n",
    "recommendation_for_user_1.show(5,False)"
   ]
  },
  {
   "cell_type": "markdown",
   "metadata": {},
   "source": [
    "# Method 2\n",
    "Similar to method 1,but more on the fly. Brings with it the same drawbacks however\n",
    "\n",
    "<h3>Top 5 Movies for User Subset</h3>\n",
    "We can use the .recommendForUserSubset method to return top numItems items recommended for a subset of user"
   ]
  },
  {
   "cell_type": "code",
   "execution_count": 8,
   "metadata": {},
   "outputs": [
    {
     "name": "stdout",
     "output_type": "stream",
     "text": [
      "+------+-----------------------------------------------------------------------------------------------+\n",
      "|userId|recommendations                                                                                |\n",
      "+------+-----------------------------------------------------------------------------------------------+\n",
      "|50    |[[6835, 5.690754], [5746, 5.690754], [40491, 5.6148753], [136850, 5.508415], [5764, 5.1216784]]|\n",
      "+------+-----------------------------------------------------------------------------------------------+\n",
      "\n",
      "+------+-------+------------------------------------------------+------------+---------+\n",
      "|userId|movieID|title                                           |release_year|rating   |\n",
      "+------+-------+------------------------------------------------+------------+---------+\n",
      "|50    |6835   |Alien Contamination                             |1980        |5.690754 |\n",
      "|50    |5746   |Galaxy of Terror (Quest)                        |1981        |5.690754 |\n",
      "|50    |40491  |Match Factory Girl, The (Tulitikkutehtaan tyttö)|1990        |5.6148753|\n",
      "|50    |136850 |Villain                                         |1971        |5.508415 |\n",
      "|50    |5764   |Looker                                          |1981        |5.1216784|\n",
      "+------+-------+------------------------------------------------+------------+---------+\n",
      "\n"
     ]
    }
   ],
   "source": [
    "USER_ID = 50\n",
    "\n",
    "subset = ratings.filter(f\"userId == {USER_ID}\").select(\"userId\")\n",
    "rec_subset = model.recommendForUserSubset(subset,5)\n",
    "rec_subset.show(1,False)\n",
    "\n",
    "recommendations_for_user_2 = (\n",
    "    rec_subset\n",
    "    #Use explode to convert the arrays to the rows with structs\n",
    "    .withColumn(\"rec\",f.explode(\"recommendations\"))\n",
    "    #Select the column we want from resulting struct\n",
    "    .select(\n",
    "        \"userId\",\n",
    "        f.col(\"rec\").movieID.alias(\"movieID\"),\n",
    "        f.col(\"rec\").rating.alias(\"rating\"),\n",
    "    )\n",
    "    #Join movies dataframe and select only the columns we want\n",
    "    .join(movies,\"movieID\")\n",
    "    .orderBy(\"rating\",ascending=False)\n",
    "    .select(\"userId\",\"movieID\",\"title\",\"release_year\",\"rating\")\n",
    ")\n",
    "\n",
    "recommendations_for_user_2.show(5,False)"
   ]
  },
  {
   "cell_type": "markdown",
   "metadata": {},
   "source": [
    "# Method 3\n",
    "Manually prepare the data and apply the model to it"
   ]
  },
  {
   "cell_type": "code",
   "execution_count": 14,
   "metadata": {},
   "outputs": [
    {
     "name": "stdout",
     "output_type": "stream",
     "text": [
      "+------+-------+-----------------------------------------------------------------------------+------------+---------+\n",
      "|userId|movieID|title                                                                        |release_year|rating   |\n",
      "+------+-------+-----------------------------------------------------------------------------+------------+---------+\n",
      "|50    |1232   |Stalker                                                                      |1979        |3.5559518|\n",
      "|50    |6666   |Discreet Charm of the Bourgeoisie, The (Charme discret de la bourgeoisie, Le)|1972        |3.6596885|\n",
      "|50    |8235   |Safety Last!                                                                 |1923        |3.554216 |\n",
      "|50    |26326  |Holy Mountain, The (Montaña sagrada, La)                                     |1973        |4.1546607|\n",
      "|50    |168492 |Call Me by Your Name                                                         |2017        |3.6118174|\n",
      "+------+-------+-----------------------------------------------------------------------------+------------+---------+\n",
      "\n"
     ]
    }
   ],
   "source": [
    "USER_ID = 50\n",
    "\n",
    "movies_to_be_rated = (\n",
    "    ratings\n",
    "    #Select all the movieID that this user has not yet rated\n",
    "    .filter(f\"userId=={USER_ID}\")\n",
    "    .select(\"movieID\").distinct()\n",
    "    #Add userId back to the data\n",
    "    .withColumn(\"userId\",f.lit(USER_ID))\n",
    ")\n",
    "\n",
    "#Apply the predictions\n",
    "user_movie_predictions = model.transform(movies_to_be_rated)\n",
    "\n",
    "#Extract the recommendations\n",
    "recommendations_for_user_3 = (\n",
    "    user_movie_predictions\n",
    "    .dropna()\n",
    "    .orderBy(\"prediction\",ascending=False)\n",
    "    .limit(5)\n",
    "    .join(movies,\"movieID\")\n",
    "    .select(\"userId\",\"movieID\",\"title\",\"release_year\",f.col(\"prediction\").alias(\"rating\"))\n",
    ")\n",
    "\n",
    "recommendations_for_user_3.show(5,False)"
   ]
  }
 ],
 "metadata": {
  "kernelspec": {
   "display_name": "Python 3",
   "language": "python",
   "name": "python3"
  },
  "language_info": {
   "codemirror_mode": {
    "name": "ipython",
    "version": 3
   },
   "file_extension": ".py",
   "mimetype": "text/x-python",
   "name": "python",
   "nbconvert_exporter": "python",
   "pygments_lexer": "ipython3",
   "version": "3.7.6"
  }
 },
 "nbformat": 4,
 "nbformat_minor": 4
}
