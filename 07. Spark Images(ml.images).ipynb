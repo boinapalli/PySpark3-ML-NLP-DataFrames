{
 "cells": [
  {
   "cell_type": "code",
   "execution_count": 1,
   "metadata": {},
   "outputs": [],
   "source": [
    "from pyspark.sql import SparkSession\n",
    "spark = SparkSession.builder.appName(\"Spark Images\").getOrCreate()"
   ]
  },
  {
   "cell_type": "code",
   "execution_count": 4,
   "metadata": {},
   "outputs": [
    {
     "name": "stdout",
     "output_type": "stream",
     "text": [
      "+-------------------------------------------------------------------------+------+-----+---------+----+\n",
      "|origin                                                                   |height|width|nChannels|mode|\n",
      "+-------------------------------------------------------------------------+------+-----+---------+----+\n",
      "|file:///C:/Spark/data/mllib/images/origin/kittens/54893.jpg              |311   |300  |3        |16  |\n",
      "|file:///C:/Spark/data/mllib/images/origin/kittens/DP802813.jpg           |313   |199  |3        |16  |\n",
      "|file:///C:/Spark/data/mllib/images/origin/kittens/29.5.a_b_EGDP022204.jpg|200   |300  |3        |16  |\n",
      "|file:///C:/Spark/data/mllib/images/origin/kittens/DP153539.jpg           |296   |300  |3        |16  |\n",
      "+-------------------------------------------------------------------------+------+-----+---------+----+\n",
      "\n"
     ]
    }
   ],
   "source": [
    "PATH = \"C:\\\\Spark\\\\data\\\\mllib\\\\images\\\\origin\\\\kittens\"\n",
    "\n",
    "df = (\n",
    "    spark.read.format(\"image\")\n",
    "    .option(\"dropInvalid\",True)\n",
    "    .load(PATH)\n",
    "    .select(\"image.origin\",\"image.height\",\"image.width\",\"image.nChannels\",\"image.mode\")\n",
    ")\n",
    "df.show(5,False)"
   ]
  },
  {
   "cell_type": "code",
   "execution_count": null,
   "metadata": {},
   "outputs": [],
   "source": []
  }
 ],
 "metadata": {
  "kernelspec": {
   "display_name": "Python 3",
   "language": "python",
   "name": "python3"
  },
  "language_info": {
   "codemirror_mode": {
    "name": "ipython",
    "version": 3
   },
   "file_extension": ".py",
   "mimetype": "text/x-python",
   "name": "python",
   "nbconvert_exporter": "python",
   "pygments_lexer": "ipython3",
   "version": "3.7.6"
  }
 },
 "nbformat": 4,
 "nbformat_minor": 4
}
